{
 "cells": [
  {
   "cell_type": "code",
   "execution_count": 8,
   "id": "d3b35245",
   "metadata": {},
   "outputs": [
    {
     "data": {
      "text/plain": [
       "'al :'"
      ]
     },
     "execution_count": 8,
     "metadata": {},
     "output_type": "execute_result"
    }
   ],
   "source": [
    "var_1 = 10 #int\n",
    "var_2 = 10.10 #float\n",
    "var_3 = \"10\" #string\n",
    "\n",
    "#print(type(var_3))\n",
    "\n",
    "long_string = f\"Here is variable 1: {var_1}\"\n",
    "#print(long_string)\n",
    "\n",
    "# indexes start at 0\n",
    "#[ start : stop : step]\n",
    "# start is inclusive, stop is exclusive\n",
    "#we can start counting from the right using a minus\n",
    "\n",
    "long_string[-10:-2:2]"
   ]
  },
  {
   "cell_type": "code",
   "execution_count": null,
   "id": "dae49133",
   "metadata": {},
   "outputs": [],
   "source": [
    "#Lists -> store lists of things\n",
    "#store lists of columns, lists of allowed gender codes or placement codes\n",
    "#use those to clean up tabular data\n",
    "\n",
    "#Dictionaries -> store variables or other things in key : value pairs"
   ]
  },
  {
   "cell_type": "code",
   "execution_count": 9,
   "id": "f87a3b37",
   "metadata": {},
   "outputs": [
    {
     "data": {
      "text/plain": [
       "list"
      ]
     },
     "execution_count": 9,
     "metadata": {},
     "output_type": "execute_result"
    }
   ],
   "source": [
    "list_1 = []\n",
    "type(list_1)"
   ]
  },
  {
   "cell_type": "code",
   "execution_count": null,
   "id": "77d6a926",
   "metadata": {},
   "outputs": [
    {
     "data": {
      "text/plain": [
       "'turquoise'"
      ]
     },
     "execution_count": 22,
     "metadata": {},
     "output_type": "execute_result"
    }
   ],
   "source": [
    "cols_1 = [\"red\", \"blue\", [\"green\", \"turquoise\", \"beige\"], 10]\n",
    "cols_2 = [\"purple\", \"orange\", cols_1, 100]\n",
    "\n",
    "#cols_1[2][::2]\n",
    "\n",
    "cols_2[2][2][1]"
   ]
  },
  {
   "cell_type": "code",
   "execution_count": null,
   "id": "84208d26",
   "metadata": {},
   "outputs": [
    {
     "data": {
      "text/plain": [
       "'Ruby'"
      ]
     },
     "execution_count": 25,
     "metadata": {},
     "output_type": "execute_result"
    }
   ],
   "source": [
    "# Write a list which contains:\n",
    "# a float, an integer, a string, and another list which itself contains strings\n",
    "# use the square bracket notation to slice out and print the last string from the\n",
    "# list inside the list (try and do it using a minus rather than a normal number)\n",
    "# variables as standard are: lower case words, with _ between\n",
    "\n",
    "mylist = [10.1, 26, \"43\", [\"Scully\", \"Derek\", \"Ruby\"]]\n",
    "\n",
    "sub_list = mylist[-1][-1]\n",
    "\n",
    "sub_list\n"
   ]
  },
  {
   "cell_type": "code",
   "execution_count": 33,
   "id": "74032351",
   "metadata": {},
   "outputs": [
    {
     "name": "stdout",
     "output_type": "stream",
     "text": [
      "['red', 'blue', ['green', 'turquoise', 'beige'], 10]\n",
      "['red', 'blue', ['green', 'turquoise', 'beige'], 10, 'brown']\n",
      "['red', 'blue', ['green', 'turquoise', 'beige'], 10, 'brown', ['purple', 'orange']]\n",
      "['red', 'blue', ['green', 'turquoise', 'beige'], 10, 'brown', ['purple', 'orange'], 'purple', 'orange']\n",
      "['red', 'blue', ['green', 'turquoise', 'beige'], 10, 'brown', ['purple', 'orange'], 'purple', 'orange', 'b', 'r', 'o', 'w', 'n']\n",
      "['red', 'blue', ['green', 'turquoise', 'beige'], 10, 'brown', ['purple', 'orange'], 'orange', 'b', 'r', 'o', 'w', 'n']\n"
     ]
    }
   ],
   "source": [
    "# Functions and Methods\n",
    "\n",
    "# print(arguments) <- an example of a function\n",
    "\n",
    "# variable_of_type.method() <- method\n",
    "\n",
    "#.append(), .extend(), .remove() (.sort(), sort())\n",
    "\n",
    "cols_1 = [\"red\", \"blue\", [\"green\", \"turquoise\", \"beige\"], 10]\n",
    "\n",
    "print(cols_1)\n",
    "\n",
    "cols_1.append(\"brown\") # append method mutates\n",
    "print(cols_1)\n",
    "\n",
    "cols_2 = [\"purple\", \"orange\"] # adds stuff to lists as a single element\n",
    "cols_1.append(cols_2)\n",
    "print(cols_1)\n",
    "\n",
    "cols_1.extend(cols_2)  # adds iterables as individual elements\n",
    "print(cols_1)\n",
    "\n",
    "cols_1.extend(\"brown\")\n",
    "print(cols_1)\n",
    "\n",
    "cols_1.remove(\"purple\") # removes only 1 element with a given value\n",
    "print (cols_1)\n"
   ]
  },
  {
   "cell_type": "code",
   "execution_count": 37,
   "id": "ee59bafe",
   "metadata": {},
   "outputs": [
    {
     "name": "stdout",
     "output_type": "stream",
     "text": [
      "['banana', 'apple', 'orange', 'pear']\n",
      "['banana', 'apple', 'orange', 'pear', 'mango']\n",
      "['banana', 'apple', 'orange', 'pear', 'mango', 'potato', 'carrot', 'broccoli']\n",
      "['banana', 'apple', 'pear', 'mango', 'potato', 'carrot', 'broccoli']\n"
     ]
    }
   ],
   "source": [
    "# In this cell, make a list of a few foods and print it.\n",
    "# Then append the list with another food and print it.\n",
    "# Next, make another list of foods, and use the extend method to \n",
    "# add those extra foods as individual elements of the list, and print it.\n",
    "# Finally, remove and element from the list and print the final list.\n",
    "# Remember to always use a suitable name for your lists!\n",
    "\n",
    "\n",
    "food = [\"banana\", \"apple\", \"orange\", \"pear\"]\n",
    "print(food)\n",
    "\n",
    "food.append(\"mango\")\n",
    "\n",
    "print(food)\n",
    "\n",
    "veg = [\"potato\", \"carrot\", \"broccoli\"]\n",
    "\n",
    "food.extend(veg)\n",
    "print(food)\n",
    "\n",
    "food.remove(\"orange\")\n",
    "print(food)"
   ]
  },
  {
   "cell_type": "code",
   "execution_count": null,
   "id": "b1577207",
   "metadata": {},
   "outputs": [
    {
     "name": "stdout",
     "output_type": "stream",
     "text": [
      "[2, 85, 6, 7, 13, 42]\n",
      "[85, 42, 13, 7, 6, 2]\n",
      "[2, 6, 7, 13, 42, 85]\n"
     ]
    }
   ],
   "source": [
    "nums = [2, 85, 6, 7, 13, 42]\n",
    "print(nums)\n",
    "\n",
    "nums.sort(reverse=True) # default for reverse = False\n",
    "nums  # this version is reversed\n",
    "\n",
    "sorted_num = sorted(nums, reverse =False) # function\n",
    "print(nums)\n",
    "print(sorted_num)"
   ]
  },
  {
   "cell_type": "code",
   "execution_count": null,
   "id": "43a6eb41",
   "metadata": {},
   "outputs": [
    {
     "data": {
      "text/plain": [
       "[('Will', 'black'),\n",
       " ('Clare', 'yellow'),\n",
       " ('Marcel', {'Monday': ['blue', 'yellow'], 'Row': 'grey'})]"
      ]
     },
     "execution_count": 53,
     "metadata": {},
     "output_type": "execute_result"
    }
   ],
   "source": [
    "# Dictionaries\n",
    "# key : value\n",
    "# keys must be immutable not mutatable -> keys must be either a string or a number\n",
    "\n",
    "fav_colours = {\"Will\":\"black\",\n",
    "                \"Clare\" : \"yellow\",\n",
    "                \"Marcel\": {\"Monday\":[\"blue\", \"yellow\"],\n",
    "                           \"Row\" : \"grey\"}}\n",
    "\n",
    "fav_colours[\"Marcel\"][\"Monday\"][0] # accessing nested elements\n",
    "\n",
    "fav_colours[\"Will\"] #accessing dictionaries by key \n",
    "\n",
    "list(fav_colours.keys()) # if you want to make it a list  add list within brackets\n",
    "\n",
    "list(fav_colours.values())\n",
    "\n",
    "list(fav_colours.items()) # returns tuples \n",
    "\n",
    "\n"
   ]
  },
  {
   "cell_type": "code",
   "execution_count": 70,
   "id": "4722b5dc",
   "metadata": {},
   "outputs": [
    {
     "name": "stdout",
     "output_type": "stream",
     "text": [
      "dict_keys(['Prezzo', 'Ambiante', 'Marrakech'])\n",
      "dict_items([('Prezzo', ['Pasta', 'Pizza']), ('Ambiante', 'Tapas'), ('Marrakech', {'Monday': 'Tagine', 'RoW': 'Hummous'})])\n",
      "dict_values([['Pasta', 'Pizza'], 'Tapas', {'Monday': 'Tagine', 'RoW': 'Hummous'}])\n",
      "{'Prezzo': ['Pasta', 'Pizza'], 'Ambiante': 'Tapas', 'Marrakech': {'Monday': 'Tagine', 'RoW': 'Hummous'}, 'Zizzis': 'Risotto'}\n",
      "False\n"
     ]
    }
   ],
   "source": [
    "# make a dictionary of restaurants with keys being the name and values being the foods,\n",
    "# make sure at least one value is a list of foods, and another is a dicitonary of days and foods\n",
    "# use the keys, vlaues, and items methods to views those\n",
    "\n",
    "Rest = {\"Prezzo\": [\"Pasta\",\"Pizza\"],\n",
    "        \"Ambiante\" : \"Tapas\",\n",
    "        \"Marrakech\" : {\"Monday\":\"Tagine\",\n",
    "                       \"RoW\": \"Hummous\"}}\n",
    "print(Rest.keys())\n",
    "print(Rest.items())\n",
    "print(Rest.values())\n",
    "\n",
    "# Using the key, print the values of one of the restaurants in your dicitonary.\n",
    "# Add a new key:value pair to your dictionary, as above.\n",
    "# Check whether 'Coffee Shop' is a key in your dictionary, printing the answer.\n",
    "\n",
    "Rest [\"Prezzo\"]\n",
    "\n",
    "Rest[\"Zizzis\"] =\"Risotto\"\n",
    "print(Rest)\n",
    "\n",
    "print(\"Coffee Shop\" in Rest)\n",
    "\n",
    "\n",
    " "
   ]
  },
  {
   "cell_type": "code",
   "execution_count": null,
   "id": "c85a43d6",
   "metadata": {},
   "outputs": [
    {
     "name": "stdout",
     "output_type": "stream",
     "text": [
      "{'Will': ['Purple', 'black'], 'Clare': 'yellow', 'Marcel': {'Monday': ['blue', 'yellow'], 'Row': 'grey'}, 'Andrew': 'black'}\n",
      "True\n"
     ]
    }
   ],
   "source": [
    "fav_colours = {\"Will\":\"black\",\n",
    "                \"Clare\" : \"yellow\",\n",
    "                \"Marcel\": {\"Monday\":[\"blue\", \"yellow\"],\n",
    "                           \"Row\" : \"grey\"}}\n",
    "\n",
    "fav_colours[\"Andrew\"] =\"black\"\n",
    "fav_colours[\"Will\"] = [\"Purple\", \"black\"]\n",
    "print(fav_colours)\n",
    "\n",
    "print(\"Will\" in fav_colours)\n"
   ]
  }
 ],
 "metadata": {
  "kernelspec": {
   "display_name": "Python 3",
   "language": "python",
   "name": "python3"
  },
  "language_info": {
   "codemirror_mode": {
    "name": "ipython",
    "version": 3
   },
   "file_extension": ".py",
   "mimetype": "text/x-python",
   "name": "python",
   "nbconvert_exporter": "python",
   "pygments_lexer": "ipython3",
   "version": "3.12.1"
  }
 },
 "nbformat": 4,
 "nbformat_minor": 5
}
