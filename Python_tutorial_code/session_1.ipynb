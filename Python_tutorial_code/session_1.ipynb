{
 "cells": [
  {
   "cell_type": "code",
   "execution_count": 14,
   "id": "e1c5c688",
   "metadata": {},
   "outputs": [
    {
     "data": {
      "text/plain": [
       "str"
      ]
     },
     "execution_count": 14,
     "metadata": {},
     "output_type": "execute_result"
    }
   ],
   "source": [
    "num_1 = 5\n",
    "\n",
    "num_2 = 10\n",
    "\n",
    "answer = num_1 + num_2\n",
    "\n",
    "answer_str = str(answer)\n",
    "\n",
    "\n",
    "# int, interger\n",
    "# str, string\n",
    "# float -  number with decimals\n",
    "# * times\n",
    "# / divide\n",
    "# + plus\n",
    "# - minus\n",
    "\n",
    "type(answer_str)"
   ]
  },
  {
   "cell_type": "code",
   "execution_count": 17,
   "id": "ba862ff7",
   "metadata": {},
   "outputs": [
    {
     "name": "stdout",
     "output_type": "stream",
     "text": [
      "744\n",
      "12.56\n"
     ]
    }
   ],
   "source": [
    "#In this cell, initialise two numeric variables and find their product\n",
    "#using the * operator for multiplication and assign this to a new variable.\n",
    "#Print the new variable\n",
    "\n",
    "\n",
    "num_3 = 62\n",
    "num_4 = 12\n",
    "\n",
    "answer_1 = num_3 * num_4\n",
    "\n",
    "print(answer_1)\n",
    " \n",
    "#The radius of a circle is 2, assume that Pi is 3.14. Assign both of these\n",
    "#to suitably named variables and find the area of the circle.\n",
    "#We can find the area of a circle by finding the product of Pi with the radius squared.\n",
    "#You probably don't know how to square a number in Python yet, so use Google to work it out!\n",
    "\n",
    "\n",
    "rad = 2\n",
    "Pi = 3.14\n",
    "\n",
    "area = Pi*rad**2\n",
    "\n",
    "print(area)\n",
    " "
   ]
  },
  {
   "cell_type": "code",
   "execution_count": null,
   "id": "fa042043",
   "metadata": {},
   "outputs": [
    {
     "data": {
      "text/plain": [
       "'Hi my name is Esther and I am a Data Superstar'"
      ]
     },
     "execution_count": 21,
     "metadata": {},
     "output_type": "execute_result"
    }
   ],
   "source": [
    "name = \"Esther\"\n",
    "job = \"Data Superstar\"\n",
    "\n",
    "name_job = f\"Hi my name is {name} and I am a {job}\"\n",
    "\n",
    "name_job"
   ]
  },
  {
   "cell_type": "code",
   "execution_count": null,
   "id": "c503be11",
   "metadata": {},
   "outputs": [
    {
     "data": {
      "text/plain": [
       "'Superstar'"
      ]
     },
     "execution_count": 30,
     "metadata": {},
     "output_type": "execute_result"
    }
   ],
   "source": [
    "phrase = name_job\n",
    "\n",
    "phrase[-9:]\n",
    "\n",
    "\n",
    "# iterable\n",
    "# iterate over\n",
    "# a thing that has parts that can be accessed one at a time\n",
    "\n",
    "# [start : stop : step]\n",
    "# start is inclusive\n",
    "# stop is exclusive\n",
    "# to start from the right use a minus"
   ]
  },
  {
   "cell_type": "code",
   "execution_count": 32,
   "id": "43114b6d",
   "metadata": {},
   "outputs": [
    {
     "data": {
      "text/plain": [
       "'list1'"
      ]
     },
     "execution_count": 32,
     "metadata": {},
     "output_type": "execute_result"
    }
   ],
   "source": [
    "filename = \"ssda903_list1.csv\"\n",
    "\n",
    "short_fn = filename[8:-4]\n",
    "\n",
    "short_fn"
   ]
  }
 ],
 "metadata": {
  "kernelspec": {
   "display_name": "Python 3",
   "language": "python",
   "name": "python3"
  },
  "language_info": {
   "codemirror_mode": {
    "name": "ipython",
    "version": 3
   },
   "file_extension": ".py",
   "mimetype": "text/x-python",
   "name": "python",
   "nbconvert_exporter": "python",
   "pygments_lexer": "ipython3",
   "version": "3.12.1"
  }
 },
 "nbformat": 4,
 "nbformat_minor": 5
}
